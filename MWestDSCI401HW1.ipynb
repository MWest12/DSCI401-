{
  "nbformat": 4,
  "nbformat_minor": 0,
  "metadata": {
    "colab": {
      "provenance": [],
      "authorship_tag": "ABX9TyPlh0k2gndLiJMIWbx/szPp",
      "include_colab_link": true
    },
    "kernelspec": {
      "name": "python3",
      "display_name": "Python 3"
    },
    "language_info": {
      "name": "python"
    }
  },
  "cells": [
    {
      "cell_type": "markdown",
      "metadata": {
        "id": "view-in-github",
        "colab_type": "text"
      },
      "source": [
        "<a href=\"https://colab.research.google.com/github/MWest12/DSCI401-/blob/main/MWestDSCI401HW1.ipynb\" target=\"_parent\"><img src=\"https://colab.research.google.com/assets/colab-badge.svg\" alt=\"Open In Colab\"/></a>"
      ]
    },
    {
      "cell_type": "code",
      "execution_count": 4,
      "metadata": {
        "colab": {
          "base_uri": "https://localhost:8080/"
        },
        "id": "Q8u7LzNmkPhx",
        "outputId": "3d9207f7-6eb7-467c-ea97-00047ea6f665"
      },
      "outputs": [
        {
          "output_type": "stream",
          "name": "stdout",
          "text": [
            "15.0\n"
          ]
        }
      ],
      "source": [
        "# Create a numeric vector (list in Python)\n",
        "numeric_vector = [5, 10, 15, 20, 25]\n",
        "\n",
        "# Calculate the mean\n",
        "mean_value = sum(numeric_vector) / len(numeric_vector)\n",
        "\n",
        "# Print the mean value\n",
        "print(mean_value)\n"
      ]
    },
    {
      "cell_type": "code",
      "source": [
        "# Import the pandas library for data frames\n",
        "import pandas as pd\n",
        "\n",
        "# Create a data frame with name, age, and favorite color\n",
        "friends_df = pd.DataFrame({\n",
        "    \"Name\": [\"Cristal\", \"Veronica\", \"Delissa\", \"Hk\", \"Cassie\"],\n",
        "    \"Age\": [36, 35, 35, 38, 30],\n",
        "    \"Favorite Color\": [\"Green\", \"Orange\", \"Pink\", \"Blue\", \"Brown\"]\n",
        "})\n",
        "\n",
        "# Print the entire data frame\n",
        "print(friends_df)\n"
      ],
      "metadata": {
        "colab": {
          "base_uri": "https://localhost:8080/"
        },
        "id": "NIyQZwOO70yv",
        "outputId": "bff2d238-80af-4fbd-e970-be2aaa200f7e"
      },
      "execution_count": 6,
      "outputs": [
        {
          "output_type": "stream",
          "name": "stdout",
          "text": [
            "       Name  Age Favorite Color\n",
            "0   Cristal   36          Green\n",
            "1  Veronica   35         Orange\n",
            "2   Delissa   35           Pink\n",
            "3        Hk   38           Blue\n",
            "4    Cassie   30          Brown\n"
          ]
        }
      ]
    },
    {
      "cell_type": "code",
      "source": [
        "# Create two numeric vectors (lists)\n",
        "vector1 = list(range(1, 21))  # Values from 1 to 20\n",
        "vector2 = list(range(1, 41, 2))  # Sequence from 1 to 40, step of 2\n",
        "\n",
        "# Perform element-wise operations\n",
        "sum_vector = [a + b for a, b in zip(vector1, vector2)]   # Add vectors\n",
        "diff_vector = [a - b for a, b in zip(vector1, vector2)]  # Subtract vectors\n",
        "prod_vector = [a * b for a, b in zip(vector1, vector2)]  # Multiply vectors\n",
        "quot_vector = [a / b for a, b in zip(vector1, vector2)]  # Divide vectors\n",
        "\n",
        "# Print the results\n",
        "print(\"Sum Vector:\", sum_vector)\n",
        "print(\"Difference Vector:\", diff_vector)\n",
        "print(\"Product Vector:\", prod_vector)\n",
        "print(\"Quotient Vector:\", quot_vector)\n"
      ],
      "metadata": {
        "colab": {
          "base_uri": "https://localhost:8080/"
        },
        "id": "X2xs713R7-R6",
        "outputId": "c53c432b-c3ea-454b-a0cf-3f5b6817457c"
      },
      "execution_count": 7,
      "outputs": [
        {
          "output_type": "stream",
          "name": "stdout",
          "text": [
            "Sum Vector: [2, 5, 8, 11, 14, 17, 20, 23, 26, 29, 32, 35, 38, 41, 44, 47, 50, 53, 56, 59]\n",
            "Difference Vector: [0, -1, -2, -3, -4, -5, -6, -7, -8, -9, -10, -11, -12, -13, -14, -15, -16, -17, -18, -19]\n",
            "Product Vector: [1, 6, 15, 28, 45, 66, 91, 120, 153, 190, 231, 276, 325, 378, 435, 496, 561, 630, 703, 780]\n",
            "Quotient Vector: [1.0, 0.6666666666666666, 0.6, 0.5714285714285714, 0.5555555555555556, 0.5454545454545454, 0.5384615384615384, 0.5333333333333333, 0.5294117647058824, 0.5263157894736842, 0.5238095238095238, 0.5217391304347826, 0.52, 0.5185185185185185, 0.5172413793103449, 0.5161290322580645, 0.5151515151515151, 0.5142857142857142, 0.5135135135135135, 0.5128205128205128]\n"
          ]
        }
      ]
    },
    {
      "cell_type": "code",
      "source": [
        "# Define the temperature conversion function\n",
        "def convert_temperature(temp, unit):\n",
        "    if unit == \"C\":\n",
        "        # Convert Fahrenheit to Celsius\n",
        "        return (temp - 32) * 5/9\n",
        "    elif unit == \"F\":\n",
        "        # Convert Celsius to Fahrenheit\n",
        "        return (temp * 9/5) + 32\n",
        "    else:\n",
        "        return \"Error: Invalid unit. Please specify 'C' or 'F'.\"\n",
        "\n",
        "# Example usage\n",
        "print(convert_temperature(100, \"C\"))  # Convert 100°F to Celsius\n",
        "print(convert_temperature(37, \"F\"))   # Convert 37°C to Fahrenheit\n",
        "print(convert_temperature(100, \"X\"))  # Invalid input"
      ],
      "metadata": {
        "colab": {
          "base_uri": "https://localhost:8080/"
        },
        "id": "tZ6Rh32I8FFl",
        "outputId": "1e7afe26-269f-4767-ca20-2bf11c7863ac"
      },
      "execution_count": 8,
      "outputs": [
        {
          "output_type": "stream",
          "name": "stdout",
          "text": [
            "37.77777777777778\n",
            "98.6\n",
            "Error: Invalid unit. Please specify 'C' or 'F'.\n"
          ]
        }
      ]
    }
  ]
}